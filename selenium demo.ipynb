{
 "cells": [
  {
   "cell_type": "code",
   "id": "initial_id",
   "metadata": {
    "collapsed": true
   },
   "source": [
    "import os\n",
    "import time\n",
    "from selenium import webdriver\n",
    "from selenium.webdriver.common.action_chains import ActionChains\n",
    "from selenium.webdriver.common.keys import Keys\n",
    "from selenium.webdriver.common.by import By"
   ],
   "outputs": [],
   "execution_count": null
  },
  {
   "metadata": {},
   "cell_type": "code",
   "source": [
    "# Initialize browser\n",
    "driver = webdriver.Firefox()\n",
    "\n",
    "# Go to the specified URL\n",
    "driver.get(\"https://kingcounty.gov/en/dept/metro/routes-and-service/schedules-and-maps\")"
   ],
   "id": "7cb7d1b375ca3b92",
   "outputs": [],
   "execution_count": null
  },
  {
   "metadata": {},
   "cell_type": "markdown",
   "source": "Download all RapidRide maps on https://kingcounty.gov/en/dept/metro/routes-and-service/schedules-and-maps\n",
   "id": "72af6c497fc04982"
  },
  {
   "metadata": {},
   "cell_type": "code",
   "source": [
    "# find the button that contains the text 'Route maps', and click it\n",
    "# XPATH has been the most consistent method for me to find unique HTML elements\n",
    "route_maps_xpath = \"//button[contains(text(),'Route maps')]\"\n",
    "driver.find_element(By.XPATH, route_maps_xpath).click()"
   ],
   "id": "5b3bb27706dfdced",
   "outputs": [],
   "execution_count": null
  },
  {
   "metadata": {},
   "cell_type": "code",
   "source": [
    "rapid_ride_lines = [\"A Line\", \"B Line\", \"C Line\", \"D Line\", \"E Line\", \"F Line\", \"G Line\", \"H Line\"]\n",
    "for line in rapid_ride_lines:\n",
    "    # button corresponding to the rapid ride line\n",
    "    xpath_str = f\"//a[contains(text(),'{line}')]/ancestor::div[@class='task-btn route-btn']\"\n",
    "    line_button = driver.find_element(By.XPATH, xpath_str)\n",
    "\n",
    "    # scroll so that the button is in view\n",
    "    driver.execute_script(\"arguments[0].scrollIntoView();\", line_button)\n",
    "    # click the button\n",
    "    line_button.click()\n",
    "    # wait for image to load\n",
    "    time.sleep(1)\n",
    "\n",
    "    # take a screenshot\n",
    "    # We can't right-click save, because the right click context menu is outside of the browser\n",
    "    # https://stackoverflow.com/a/75563070\n",
    "    driver.get_screenshot_as_file(os.path.join(\"screenshots\", f\"{line}.png\"))\n",
    "    time.sleep(2)\n",
    "\n",
    "    # stop viewing the image\n",
    "    ActionChains(driver).send_keys(Keys.ESCAPE).perform()"
   ],
   "id": "3ab5de80cbb14965",
   "outputs": [],
   "execution_count": null
  },
  {
   "metadata": {},
   "cell_type": "code",
   "source": [
    "## view the HTML for the page you are viewing\n",
    "driver.page_source\n",
    "## In pycharm, create an html file and format it with ctrl + shift + alt + L"
   ],
   "id": "bfc14c873c7f3185",
   "outputs": [],
   "execution_count": null
  },
  {
   "metadata": {},
   "cell_type": "code",
   "source": "driver.close()",
   "id": "d655f6dc893e7e67",
   "outputs": [],
   "execution_count": null
  },
  {
   "metadata": {},
   "cell_type": "code",
   "source": "",
   "id": "b30c5eed4892c2e6",
   "outputs": [],
   "execution_count": null
  }
 ],
 "metadata": {
  "kernelspec": {
   "display_name": "Python 3",
   "language": "python",
   "name": "python3"
  },
  "language_info": {
   "codemirror_mode": {
    "name": "ipython",
    "version": 2
   },
   "file_extension": ".py",
   "mimetype": "text/x-python",
   "name": "python",
   "nbconvert_exporter": "python",
   "pygments_lexer": "ipython2",
   "version": "2.7.6"
  }
 },
 "nbformat": 4,
 "nbformat_minor": 5
}
